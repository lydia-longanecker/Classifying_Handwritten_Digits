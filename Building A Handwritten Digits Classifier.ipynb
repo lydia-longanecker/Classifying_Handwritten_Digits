{
 "cells": [
  {
   "cell_type": "code",
   "execution_count": 1,
   "metadata": {},
   "outputs": [
    {
     "name": "stdout",
     "output_type": "stream",
     "text": [
      "(1797, 64)\n",
      "<class 'numpy.ndarray'>\n",
      "[ 0.  0.  5. 13.  9.  1.  0.  0.  0.  0. 13. 15. 10. 15.  5.  0.  0.  3.\n",
      " 15.  2.  0. 11.  8.  0.  0.  4. 12.  0.  0.  8.  8.  0.  0.  5.  8.  0.\n",
      "  0.  9.  8.  0.  0.  4. 11.  0.  1. 12.  7.  0.  0.  2. 14.  5. 10. 12.\n",
      "  0.  0.  0.  0.  6. 13. 10.  0.  0.  0.]\n",
      "0\n"
     ]
    },
    {
     "data": {
      "text/plain": [
       "<Figure size 432x288 with 0 Axes>"
      ]
     },
     "metadata": {},
     "output_type": "display_data"
    },
    {
     "data": {
      "image/png": "[encoded data removed]",
      "text/plain": [
       "<Figure size 432x288 with 8 Axes>"
      ]
     },
     "metadata": {
      "needs_background": "light"
     },
     "output_type": "display_data"
    }
   ],
   "source": [
    "from sklearn.datasets import load_digits\n",
    "%matplotlib inline\n",
    "\n",
    "digits = load_digits()\n",
    "print(digits.data.shape)\n",
    "print(type(digits.data))\n",
    "print(digits.data[0])\n",
    "print(digits.target[0])\n",
    "\n",
    "import matplotlib.pyplot as plt \n",
    "\n",
    "plt.gray() \n",
    "\n",
    "fig = plt.figure()\n",
    "ax = {}\n",
    "image_num = [0, 100, 200, 300, 1000, 1100, 1200, 1300]\n",
    "\n",
    "for i in range(8):\n",
    "    ax[i] = fig.add_subplot(2,4,i+1)\n",
    "    ax[i].matshow(digits.images[i])\n",
    "\n",
    "plt.show()"
   ]
  },
  {
   "cell_type": "code",
   "execution_count": 2,
   "metadata": {},
   "outputs": [],
   "source": [
    "import pandas as pd\n",
    "df = pd.DataFrame(digits.data)"
   ]
  },
  {
   "cell_type": "code",
   "execution_count": 3,
   "metadata": {},
   "outputs": [
    {
     "name": "stdout",
     "output_type": "stream",
     "text": [
      "{7: 0.41555555555555557, 5: 0.41555555555555557, 4: 0.39555555555555555, 3: 0.30444444444444446}\n",
      "   predicted  test_target\n",
      "0          5            5\n",
      "1          2            2\n",
      "2          5            5\n",
      "3          5            5\n",
      "4          5            5\n",
      "5          3            3\n",
      "6          2            2\n",
      "7          2            2\n",
      "8          3            3\n",
      "9          5            5\n"
     ]
    }
   ],
   "source": [
    "from sklearn.neighbors import KNeighborsClassifier\n",
    "import numpy as np\n",
    "from sklearn.model_selection import train_test_split\n",
    "from sklearn.metrics import mean_squared_error\n",
    "\n",
    "X_train, X_test, y_train, y_test = train_test_split(df, digits.target, random_state=5, shuffle=True)\n",
    "\n",
    "def train_test(n): \n",
    "    knn = KNeighborsClassifier(n_neighbors=n,algorithm='brute')    \n",
    "    knn.fit(X_train, y_train)\n",
    "    predictions = knn.predict(X_test)    \n",
    "    return predictions\n",
    "\n",
    "n_list = [7, 5, 4, 3]\n",
    "mse = {}\n",
    "for i in n_list:\n",
    "    y_pred = train_test(i)\n",
    "    mse[i] = mean_squared_error(y_pred, y_test)\n",
    "print(mse)\n",
    "\n",
    "n_min_mse = min(mse, key=mse.get)\n",
    "comp_dict = {'predicted': train_test(n_min_mse), 'test_target': y_test}\n",
    "comparison = pd.DataFrame(data=comp_dict)\n",
    "print(comparison.head(10))"
   ]
  },
  {
   "cell_type": "code",
   "execution_count": 4,
   "metadata": {},
   "outputs": [
    {
     "name": "stdout",
     "output_type": "stream",
     "text": [
      "{7: 0.6082572838042745, 5: 0.6231472765417181, 4: 0.5924261096767243, 3: 0.5633936502228671}\n"
     ]
    },
    {
     "data": {
      "text/plain": [
       "<matplotlib.collections.PathCollection at 0x1a2410c5f8>"
      ]
     },
     "execution_count": 4,
     "metadata": {},
     "output_type": "execute_result"
    },
    {
     "data": {
      "image/png": "[encoded data removed]",
      "text/plain": [
       "<Figure size 432x288 with 1 Axes>"
      ]
     },
     "metadata": {
      "needs_background": "light"
     },
     "output_type": "display_data"
    }
   ],
   "source": [
    "from sklearn.model_selection import cross_val_score, KFold\n",
    "\n",
    "def k_fold_validation(n):\n",
    "    kf = KFold(4, True, 1)\n",
    "    knn = KNeighborsClassifier(n_neighbors=n,algorithm='brute')\n",
    "    mses = cross_val_score(knn, df, digits.target, scoring='neg_mean_squared_error', cv=kf)\n",
    "    avg_rmse = np.mean(np.sqrt(np.absolute(mses)))\n",
    "    return avg_rmse\n",
    "\n",
    "n_list = [7, 5, 4, 3]\n",
    "avg_rmse_dict = {}\n",
    "for i in n_list:\n",
    "    avg_rmse_dict[i] = k_fold_validation(i)\n",
    "    \n",
    "print(avg_rmse_dict)\n",
    "\n",
    "plt.scatter(avg_rmse_dict.keys(), avg_rmse_dict.values())"
   ]
  },
  {
   "cell_type": "code",
   "execution_count": 5,
   "metadata": {},
   "outputs": [
    {
     "name": "stdout",
     "output_type": "stream",
     "text": [
      "{8: 1.1861606129852404, 16: 0.8190651361042227, 32: 0.8352187457029545, 64: 0.7192476262356908, 128: 0.7842935057140976, 256: 0.6820711953666434}\n"
     ]
    },
    {
     "data": {
      "text/plain": [
       "<matplotlib.collections.PathCollection at 0x1a24160b70>"
      ]
     },
     "execution_count": 5,
     "metadata": {},
     "output_type": "execute_result"
    },
    {
     "data": {
      "image/png": "[encoded data removed]",
      "text/plain": [
       "<Figure size 432x288 with 1 Axes>"
      ]
     },
     "metadata": {
      "needs_background": "light"
     },
     "output_type": "display_data"
    }
   ],
   "source": [
    "from sklearn.neural_network import MLPClassifier\n",
    "\n",
    "def k_fold_validation_neural(n):\n",
    "    kf = KFold(4, True, 1)\n",
    "    clf = MLPClassifier(hidden_layer_sizes=(n), max_iter=50000, random_state=10)\n",
    "    mses = cross_val_score(clf, df, digits.target, scoring='neg_mean_squared_error', cv=kf)\n",
    "    avg_rmse = np.mean(np.sqrt(np.absolute(mses)))\n",
    "    return avg_rmse\n",
    "\n",
    "n_list = [8, 16, 32, 64, 128, 256]\n",
    "avg_rmse_dict = {}\n",
    "for i in n_list:\n",
    "    avg_rmse_dict[i] = k_fold_validation_neural(i)\n",
    "    \n",
    "print(avg_rmse_dict)\n",
    "\n",
    "plt.scatter(avg_rmse_dict.keys(), avg_rmse_dict.values())"
   ]
  },
  {
   "cell_type": "code",
   "execution_count": 6,
   "metadata": {},
   "outputs": [
    {
     "name": "stdout",
     "output_type": "stream",
     "text": [
      "{8: (0.011878247958426132, 0.5), 16: (0.0, 0.7533333333333333), 32: (0.0, 0.32222222222222224), 64: (0.0, 0.23333333333333334), 128: (0.0, 0.45111111111111113), 256: (0.0, 0.2911111111111111)}\n"
     ]
    },
    {
     "data": {
      "image/png": "[encoded data removed]",
      "text/plain": [
       "<Figure size 432x288 with 1 Axes>"
      ]
     },
     "metadata": {
      "needs_background": "light"
     },
     "output_type": "display_data"
    }
   ],
   "source": [
    "def train_test_neural(n): \n",
    "    clf = MLPClassifier(hidden_layer_sizes=(n), max_iter=50000, random_state=10)  \n",
    "    X_train, X_test, y_train, y_test = train_test_split(df, digits.target, random_state=5, shuffle=True)\n",
    "    clf.fit(X_train, y_train)\n",
    "    predictions_train = clf.predict(X_train)\n",
    "    predictions_test = clf.predict(X_test)\n",
    "    return predictions_train, predictions_test\n",
    "\n",
    "n_list = [8, 16, 32, 64, 128, 256]\n",
    "mse = {}\n",
    "train_mse ={}\n",
    "test_mse = {}\n",
    "\n",
    "for i in n_list:\n",
    "    pred_train = train_test_neural(i)[0]\n",
    "    pred_test = train_test_neural(i)[1]\n",
    "    train_mse[i] = mean_squared_error(pred_train, y_train) \n",
    "    test_mse[i] = mean_squared_error(pred_test, y_test)\n",
    "    mse[i] = (mean_squared_error(pred_train, y_train), mean_squared_error(pred_test, y_test))\n",
    "\n",
    "print(mse)\n",
    "\n",
    "plt.scatter(mse.keys(), train_mse.values())\n",
    "plt.scatter(mse.keys(), test_mse.values())\n",
    "plt.show()"
   ]
  },
  {
   "cell_type": "code",
   "execution_count": 13,
   "metadata": {},
   "outputs": [
    {
     "name": "stdout",
     "output_type": "stream",
     "text": [
      "0.0 0.4111111111111111\n"
     ]
    }
   ],
   "source": [
    "n = (64, 64)\n",
    "pred_train = train_test_neural(n)[0]\n",
    "pred_test = train_test_neural(n)[1]\n",
    "train_mse = mean_squared_error(pred_train, y_train) \n",
    "test_mse = mean_squared_error(pred_test, y_test)\n",
    "\n",
    "print(train_mse, test_mse)"
   ]
  },
  {
   "cell_type": "code",
   "execution_count": 14,
   "metadata": {},
   "outputs": [
    {
     "name": "stdout",
     "output_type": "stream",
     "text": [
      "0.0 0.7088888888888889\n"
     ]
    }
   ],
   "source": [
    "n = (10, 10, 10)\n",
    "pred_train = train_test_neural(n)[0]\n",
    "pred_test = train_test_neural(n)[1]\n",
    "train_mse = mean_squared_error(pred_train, y_train) \n",
    "test_mse = mean_squared_error(pred_test, y_test)\n",
    "\n",
    "print(train_mse, test_mse)"
   ]
  },
  {
   "cell_type": "code",
   "execution_count": 15,
   "metadata": {},
   "outputs": [
    {
     "name": "stdout",
     "output_type": "stream",
     "text": [
      "0.0 0.3422222222222222\n"
     ]
    }
   ],
   "source": [
    "n = (64, 64, 64)\n",
    "pred_train = train_test_neural(n)[0]\n",
    "pred_test = train_test_neural(n)[1]\n",
    "train_mse = mean_squared_error(pred_train, y_train) \n",
    "test_mse = mean_squared_error(pred_test, y_test)\n",
    "\n",
    "print(train_mse, test_mse)"
   ]
  },
  {
   "cell_type": "code",
   "execution_count": 16,
   "metadata": {},
   "outputs": [
    {
     "name": "stdout",
     "output_type": "stream",
     "text": [
      "0.0 0.3022222222222222\n"
     ]
    }
   ],
   "source": [
    "n = (128, 128, 128)\n",
    "pred_train = train_test_neural(n)[0]\n",
    "pred_test = train_test_neural(n)[1]\n",
    "train_mse = mean_squared_error(pred_train, y_train) \n",
    "test_mse = mean_squared_error(pred_test, y_test)\n",
    "\n",
    "print(train_mse, test_mse)"
   ]
  },
  {
   "cell_type": "code",
   "execution_count": null,
   "metadata": {},
   "outputs": [],
   "source": []
  }
 ],
 "metadata": {
  "kernelspec": {
   "display_name": "Python 3",
   "language": "python",
   "name": "python3"
  },
  "language_info": {
   "codemirror_mode": {
    "name": "ipython",
    "version": 3
   },
   "file_extension": ".py",
   "mimetype": "text/x-python",
   "name": "python",
   "nbconvert_exporter": "python",
   "pygments_lexer": "ipython3",
   "version": "3.7.3"
  }
 },
 "nbformat": 4,
 "nbformat_minor": 2
}
